{
 "cells": [
  {
   "cell_type": "markdown",
   "metadata": {},
   "source": [
    "# 01 - Keşifsel Veri Analizi (Exploratory Data Analysis)\n",
    "\n",
    "## Sprint 1: Veri Hazırlama ve Ön İşleme\n",
    "\n",
    "Bu notebook, maaş anketi verisinin ilk keşifsel analizini içerir.\n",
    "\n",
    "### Hedefler:\n",
    "- Ham veriyi yükleme ve temel yapıyı anlama\n",
    "- Veri kalitesi değerlendirmesi\n",
    "- Eksik veri analizi\n",
    "- Temel istatistiksel özetler"
   ]
  },
  {
   "cell_type": "code",
   "execution_count": null,
   "metadata": {},
   "outputs": [],
   "source": [
    "# Gerekli kütüphaneleri import et\n",
    "import pandas as pd\n",
    "import numpy as np\n",
    "import matplotlib.pyplot as plt\n",
    "import seaborn as sns\n",
    "from datetime import datetime\n",
    "\n",
    "# Görselleştirme ayarları\n",
    "plt.style.use('seaborn-v0_8')\n",
    "sns.set_palette(\"husl\")\n",
    "plt.rcParams['figure.figsize'] = (12, 8)\n",
    "plt.rcParams['font.size'] = 12\n",
    "\n",
    "print(\"Kütüphaneler başarıyla yüklendi!\")"
   ]
  },
  {
   "cell_type": "markdown",
   "metadata": {},
   "source": [
    "## 1. Veri Yükleme ve İlk İnceleme"
   ]
  },
  {
   "cell_type": "code",
   "execution_count": null,
   "metadata": {},
   "outputs": [],
   "source": [
    "# CSV dosyasını yükle\n",
    "df = pd.read_csv('../maas_anketi.csv')\n",
    "\n",
    "print(f\"Veri boyutu: {df.shape}\")\n",
    "print(f\"Satır sayısı: {df.shape[0]}\")\n",
    "print(f\"Sütun sayısı: {df.shape[1]}\")\n",
    "print(\"\\nSütun isimleri:\")\n",
    "for i, col in enumerate(df.columns, 1):\n",
    "    print(f\"{i:2d}. {col}\")"
   ]
  },
  {
   "cell_type": "code",
   "execution_count": null,
   "metadata": {},
   "outputs": [],
   "source": [
    "# İlk 5 satırı görüntüle\n",
    "print(\"İlk 5 satır:\")\n",
    "df.head()"
   ]
  },
  {
   "cell_type": "code",
   "execution_count": null,
   "metadata": {},
   "outputs": [],
   "source": [
    "# Veri tiplerini kontrol et\n",
    "print(\"Veri tipleri:\")\n",
    "print(df.dtypes)\n",
    "print(\"\\nVeri tipleri özeti:\")\n",
    "print(df.dtypes.value_counts())"
   ]
  },
  {
   "cell_type": "markdown",
   "metadata": {},
   "source": [
    "## 2. Temel İstatistiksel Özetler"
   ]
  },
  {
   "cell_type": "code",
   "execution_count": null,
   "metadata": {},
   "outputs": [],
   "source": [
    "# Sayısal sütunlar için temel istatistikler\n",
    "print(\"Sayısal sütunlar için temel istatistikler:\")\n",
    "df.describe()"
   ]
  },
  {
   "cell_type": "code",
   "execution_count": null,
   "metadata": {},
   "outputs": [],
   "source": [
    "# Kategorik sütunlar için özet\n",
    "print(\"Kategorik sütunlar için özet:\")\n",
    "categorical_columns = df.select_dtypes(include=['object']).columns\n",
    "\n",
    "for col in categorical_columns:\n",
    "    print(f\"\\n{col}:\")\n",
    "    print(f\"Benzersiz değer sayısı: {df[col].nunique()}\")\n",
    "    print(f\"En sık değer: {df[col].mode().iloc[0] if not df[col].mode().empty else 'Yok'}\")\n",
    "    print(f\"En sık değer frekansı: {df[col].value_counts().iloc[0] if not df[col].value_counts().empty else 0}\")"
   ]
  },
  {
   "cell_type": "markdown",
   "metadata": {},
   "source": [
    "## 3. Eksik Veri Analizi"
   ]
  },
  {
   "cell_type": "code",
   "execution_count": null,
   "metadata": {},
   "outputs": [],
   "source": [
    "# Eksik veri analizi\n",
    "missing_data = df.isnull().sum()\n",
    "missing_percentage = (missing_data / len(df)) * 100\n",
    "\n",
    "missing_summary = pd.DataFrame({\n",
    "    'Eksik_Veri_Sayısı': missing_data,\n",
    "    'Eksik_Veri_Yüzdesi': missing_percentage\n",
    "})\n",
    "\n",
    "print(\"Eksik veri özeti:\")\n",
    "print(missing_summary[missing_summary['Eksik_Veri_Sayısı'] > 0])\n",
    "\n",
    "print(f\"\\nToplam eksik veri oranı: {df.isnull().sum().sum() / (df.shape[0] * df.shape[1]) * 100:.2f}%\")"
   ]
  },
  {
   "cell_type": "markdown",
   "metadata": {},
   "source": [
    "## 4. Maaş Verisi İnceleme"
   ]
  },
  {
   "cell_type": "code",
   "execution_count": null,
   "metadata": {},
   "outputs": [],
   "source": [
    "# Maaş sütununu detaylı incele\n",
    "salary_column = 'Aylık ortalama net kaç bin TL alıyorsun?'\n",
    "\n",
    "print(f\"Maaş sütunu: {salary_column}\")\n",
    "print(f\"Benzersiz değerler:\")\n",
    "print(df[salary_column].value_counts().sort_index())\n",
    "\n",
    "print(f\"\\nMaaş aralıkları:\")\n",
    "print(df[salary_column].unique())"
   ]
  },
  {
   "cell_type": "markdown",
   "metadata": {},
   "source": [
    "## 5. Teknoloji Sütunları İnceleme"
   ]
  },
  {
   "cell_type": "code",
   "execution_count": null,
   "metadata": {},
   "outputs": [],
   "source": [
    "# Teknoloji sütunlarını incele\n",
    "tech_columns = [\n",
    "    'Hangi programlama dillerini kullanıyorsun',\n",
    "    'Frontend yazıyorsan hangilerini kullanıyorsun',\n",
    "    'Hangi tool\\'ları kullanıyorsun'\n",
    "]\n",
    "\n",
    "for col in tech_columns:\n",
    "    if col in df.columns:\n",
    "        print(f\"\\n{col}:\")\n",
    "        print(f\"Benzersiz değer sayısı: {df[col].nunique()}\")\n",
    "        print(f\"İlk 10 benzersiz değer:\")\n",
    "        print(df[col].value_counts().head(10))"
   ]
  },
  {
   "cell_type": "markdown",
   "metadata": {},
   "source": [
    "## 6. Veri Kalitesi Raporu"
   ]
  },
  {
   "cell_type": "code",
   "execution_count": null,
   "metadata": {},
   "outputs": [],
   "source": [
    "# Veri kalitesi raporu oluştur\n",
    "print(\"=== VERİ KALİTESİ RAPORU ===\\n\")\n",
    "\n",
    "print(f\"1. Veri Boyutu: {df.shape[0]} satır, {df.shape[1]} sütun\")\n",
    "print(f\"2. Toplam Veri Noktası: {df.shape[0] * df.shape[1]}\")\n",
    "print(f\"3. Eksik Veri Sayısı: {df.isnull().sum().sum()}\")\n",
    "print(f\"4. Eksik Veri Oranı: {df.isnull().sum().sum() / (df.shape[0] * df.shape[1]) * 100:.2f}%\")\n",
    "print(f\"5. Veri Tamlığı: {100 - df.isnull().sum().sum() / (df.shape[0] * df.shape[1]) * 100:.2f}%\")\n",
    "\n",
    "print(\"\\n6. Sütun Bazında Eksik Veri:\")\n",
    "for col in df.columns:\n",
    "    missing_count = df[col].isnull().sum()\n",
    "    if missing_count > 0:\n",
    "        print(f\"   - {col}: {missing_count} ({missing_count/len(df)*100:.1f}%)\")\n",
    "\n",
    "print(\"\\n7. Veri Tipleri:\")\n",
    "print(df.dtypes.value_counts())"
   ]
  },
  {
   "cell_type": "markdown",
   "metadata": {},
   "source": [
    "## 7. Sonraki Adımlar\n",
    "\n",
    "Bu EDA sonucunda:\n",
    "1. Veri yapısı anlaşıldı\n",
    "2. Eksik veri durumu belirlendi\n",
    "3. Kategorik değişkenler tanımlandı\n",
    "4. Maaş verisi formatı incelendi\n",
    "\n",
    "**Sonraki adım:** `data_cleaning.py` modülü ile veri temizleme işlemleri"
   ]
  }
 ],
 "metadata": {
  "kernelspec": {
   "display_name": "Python 3",
   "language": "python",
   "name": "python3"
  },
  "language_info": {
   "codemirror_mode": {
    "name": "ipython",
    "version": 3
   },
   "file_extension": ".py",
   "mimetype": "text/x-python",
   "name": "python",
   "nbconvert_exporter": "python",
   "pygments_lexer": "ipython3",
   "version": "3.12.0"
  }
 },
 "nbformat": 4,
 "nbformat_minor": 4
}